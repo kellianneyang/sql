{
 "cells": [
  {
   "cell_type": "markdown",
   "id": "f410fc1c",
   "metadata": {},
   "source": [
    "# Books (Core)"
   ]
  },
  {
   "cell_type": "markdown",
   "id": "dc2e186b",
   "metadata": {},
   "source": [
    "# ERD"
   ]
  },
  {
   "cell_type": "markdown",
   "id": "b1de23e6",
   "metadata": {},
   "source": [
    "![png](Images/favorite_books_erd.png)"
   ]
  },
  {
   "cell_type": "markdown",
   "id": "c40b73b6",
   "metadata": {},
   "source": [
    "# Create the database"
   ]
  },
  {
   "cell_type": "code",
   "execution_count": null,
   "id": "f4695c2d",
   "metadata": {},
   "outputs": [],
   "source": []
  }
 ],
 "metadata": {
  "kernelspec": {
   "display_name": "Python (dojo-env)",
   "language": "python",
   "name": "dojo-env"
  },
  "language_info": {
   "codemirror_mode": {
    "name": "ipython",
    "version": 3
   },
   "file_extension": ".py",
   "mimetype": "text/x-python",
   "name": "python",
   "nbconvert_exporter": "python",
   "pygments_lexer": "ipython3",
   "version": "3.9.15"
  },
  "toc": {
   "base_numbering": 1,
   "nav_menu": {},
   "number_sections": false,
   "sideBar": true,
   "skip_h1_title": false,
   "title_cell": "Table of Contents",
   "title_sidebar": "Contents",
   "toc_cell": false,
   "toc_position": {},
   "toc_section_display": true,
   "toc_window_display": false
  }
 },
 "nbformat": 4,
 "nbformat_minor": 5
}
